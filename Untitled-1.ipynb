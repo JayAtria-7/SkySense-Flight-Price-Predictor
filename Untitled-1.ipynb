{
 "cells": [
  {
   "cell_type": "markdown",
   "id": "c761c4af",
   "metadata": {},
   "source": [
    "import pandas as pd\n",
    "from pathlib import Path\n",
    "\n",
    "# Use the local CSV in the workspace\n",
    "csv_path = Path(r\"e:\\project\\capstone1\\Clean_Dataset.csv\")\n",
    "\n",
    "data = pd.read_csv(csv_path)\n",
    "data.head()\n"
   ]
  }
 ],
 "metadata": {
  "kernelspec": {
   "display_name": "tudat-space",
   "language": "python",
   "name": "python3"
  },
  "language_info": {
   "name": "python",
   "version": "3.10.19"
  }
 },
 "nbformat": 4,
 "nbformat_minor": 5
}
